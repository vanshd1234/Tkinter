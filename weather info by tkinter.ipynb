{
 "cells": [
  {
   "cell_type": "code",
   "execution_count": 1,
   "metadata": {},
   "outputs": [
    {
     "name": "stdout",
     "output_type": "stream",
     "text": [
      "Overwriting weather.py\n"
     ]
    }
   ],
   "source": [
    "%%writefile weather.py\n",
    "import tkinter as tk\n",
    "import json\n",
    "import os\n",
    "import requests\n",
    "def city_name():\n",
    "    text=ent_var.get()\n",
    "    ent_var.set('')\n",
    "    api_key='0fd3711d8fdfa04fda7cb49d0b3dac04'\n",
    "    url=f'http://api.openweathermap.org/data/2.5/weather?q={text}&units=metric&appid={api_key}'\n",
    "    resp= requests.get(url)\n",
    "    data=resp.json()\n",
    "    temp=data['main']['temp']\n",
    "    lb=tk.Label(root,text=F'{text} temperature: {temp}',font=32)\n",
    "    lb.pack()\n",
    "\n",
    "root = tk.Tk()\n",
    "\n",
    "ent_var=tk.StringVar()\n",
    "\n",
    "frame =tk.Frame(root, )\n",
    "clb=tk.Label(root, text='WEATHER INFO')\n",
    "clb.pack(side=tk.TOP , fill = tk.X)\n",
    "\n",
    "\n",
    "#l=tk.Label(root,text='WEATHER INFO :',)\n",
    "#l.pack(side=tk.TOP)\n",
    "l=tk.Label(root,text='CITY NAME :',)\n",
    "l.pack(side=tk.TOP)\n",
    "\n",
    "ent_box = tk.Entry(root,font=('Times',14, ),textvariable=ent_var)\n",
    "ent_box.pack()\n",
    "ent_box.focus()\n",
    "\n",
    "ent_button = tk.Button(root, text='SEARCH',command=city_name )\n",
    "ent_button.pack()\n",
    "\n",
    "ent_box.bind('<Return>',city_name)\n",
    "\n",
    "b=tk.Button(root,text='exit',command=root.destroy)\n",
    "b.pack()\n",
    "\n",
    "root.wm_minsize(200,250)\n",
    "root.title('Weather Info')\n",
    "root.mainloop()"
   ]
  },
  {
   "cell_type": "code",
   "execution_count": 2,
   "metadata": {},
   "outputs": [],
   "source": [
    "!python weather.py"
   ]
  },
  {
   "cell_type": "code",
   "execution_count": null,
   "metadata": {},
   "outputs": [],
   "source": []
  },
  {
   "cell_type": "code",
   "execution_count": 12,
   "metadata": {},
   "outputs": [],
   "source": []
  },
  {
   "cell_type": "code",
   "execution_count": null,
   "metadata": {},
   "outputs": [],
   "source": []
  },
  {
   "cell_type": "code",
   "execution_count": null,
   "metadata": {},
   "outputs": [],
   "source": []
  },
  {
   "cell_type": "code",
   "execution_count": null,
   "metadata": {},
   "outputs": [],
   "source": []
  },
  {
   "cell_type": "code",
   "execution_count": null,
   "metadata": {},
   "outputs": [],
   "source": []
  },
  {
   "cell_type": "code",
   "execution_count": null,
   "metadata": {},
   "outputs": [],
   "source": []
  },
  {
   "cell_type": "code",
   "execution_count": null,
   "metadata": {},
   "outputs": [],
   "source": []
  }
 ],
 "metadata": {
  "kernelspec": {
   "display_name": "Python 3",
   "language": "python",
   "name": "python3"
  },
  "language_info": {
   "codemirror_mode": {
    "name": "ipython",
    "version": 3
   },
   "file_extension": ".py",
   "mimetype": "text/x-python",
   "name": "python",
   "nbconvert_exporter": "python",
   "pygments_lexer": "ipython3",
   "version": "3.8.5"
  }
 },
 "nbformat": 4,
 "nbformat_minor": 4
}
